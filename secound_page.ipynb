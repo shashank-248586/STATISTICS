{
 "cells": [
  {
   "cell_type": "code",
   "execution_count": 2,
   "metadata": {},
   "outputs": [],
   "source": [
    "import numpy as np\n",
    "import pandas as pd\n",
    "import matplotlib.pyplot as plt\n",
    "import seaborn as sns\n",
    "import math"
   ]
  },
  {
   "cell_type": "markdown",
   "metadata": {},
   "source": [
    "QUESTION - 7"
   ]
  },
  {
   "cell_type": "code",
   "execution_count": 3,
   "metadata": {},
   "outputs": [],
   "source": [
    "df = sns.load_dataset('tips')\n",
    "data = df[[\"total_bill\",\"tip\"]]"
   ]
  },
  {
   "cell_type": "code",
   "execution_count": 4,
   "metadata": {},
   "outputs": [
    {
     "name": "stdout",
     "output_type": "stream",
     "text": [
      "skewness of tip  1.992294576577316e-16\n",
      "skewness of total_bill  -8.757002879148477e-19\n"
     ]
    }
   ],
   "source": [
    "#(i)\n",
    "def skewness(l):\n",
    "    standard_dev = np.std(l)\n",
    "    n = np.size(l)-1\n",
    "    mean_of_sample = np.mean(l)\n",
    "    sum = 0\n",
    "    for i in l:\n",
    "        sum +=i - mean_of_sample\n",
    "    return sum/(standard_dev**3 *n)\n",
    "print(\"skewness of tip \",skewness(data[\"tip\"]))\n",
    "print(\"skewness of total_bill \",skewness(data[\"total_bill\"]))"
   ]
  },
  {
   "cell_type": "code",
   "execution_count": 5,
   "metadata": {},
   "outputs": [
    {
     "name": "stdout",
     "output_type": "stream",
     "text": [
      "Positive skwed\n",
      "Negative skwed\n"
     ]
    }
   ],
   "source": [
    "#(ii)\n",
    "def check(l):\n",
    "    if(skewness(l)<0):\n",
    "        print(\"Negative skwed\")\n",
    "    elif(skewness(l)>0):print(\"Positive skwed\")\n",
    "    else:\n",
    "        print(\" 0 skewd \")\n",
    "check(data[\"tip\"])\n",
    "check(data[\"total_bill\"])"
   ]
  },
  {
   "cell_type": "code",
   "execution_count": 6,
   "metadata": {},
   "outputs": [
    {
     "data": {
      "text/plain": [
       "8.323501629224854"
      ]
     },
     "execution_count": 6,
     "metadata": {},
     "output_type": "execute_result"
    }
   ],
   "source": [
    "#(iii)\n",
    "def cov(k,l):\n",
    "    ans = np.cov(k,l)\n",
    "    return ans[0,1]\n",
    "cov(df['total_bill'],df['tip'])"
   ]
  },
  {
   "cell_type": "code",
   "execution_count": 7,
   "metadata": {},
   "outputs": [
    {
     "data": {
      "text/plain": [
       "0.1791388805078023"
      ]
     },
     "execution_count": 7,
     "metadata": {},
     "output_type": "execute_result"
    }
   ],
   "source": [
    "#(v)\n",
    "a = df['total_bill'].rank()\n",
    "b = df['tip'].rank()\n",
    "ind = [ i for i in range(np.size(a))]\n",
    "data = pd.DataFrame(a,b)\n",
    "data.index=[ i for i in range(np.size(a))]\n",
    "data['tip']=b\n",
    "ans = data.corr()\n",
    "ans.values[0,1]\n"
   ]
  },
  {
   "cell_type": "code",
   "execution_count": 8,
   "metadata": {},
   "outputs": [
    {
     "data": {
      "text/plain": [
       "<matplotlib.collections.PathCollection at 0x274513a7190>"
      ]
     },
     "execution_count": 8,
     "metadata": {},
     "output_type": "execute_result"
    },
    {
     "data": {
      "image/png": "[encoded data removed]",
      "text/plain": [
       "<Figure size 640x480 with 1 Axes>"
      ]
     },
     "metadata": {},
     "output_type": "display_data"
    }
   ],
   "source": [
    "#(v)\n",
    "plt.scatter(df['total_bill'],df['tip'])"
   ]
  },
  {
   "cell_type": "markdown",
   "metadata": {},
   "source": [
    "QUESTION -8"
   ]
  },
  {
   "cell_type": "code",
   "execution_count": 9,
   "metadata": {},
   "outputs": [
    {
     "data": {
      "text/plain": [
       "0.9977525293526299"
      ]
     },
     "execution_count": 9,
     "metadata": {},
     "output_type": "execute_result"
    }
   ],
   "source": [
    "sample = np.random.randint(10,20,100)\n",
    "def PDF(l,x):\n",
    "    st = np.std(l)\n",
    "    ans = np.e**(-0.00001*(x**2))\n",
    "    return ans\n",
    "PDF(sample,15)"
   ]
  },
  {
   "cell_type": "markdown",
   "metadata": {},
   "source": [
    "QUESTION - 9"
   ]
  },
  {
   "cell_type": "code",
   "execution_count": 10,
   "metadata": {},
   "outputs": [
    {
     "data": {
      "text/plain": [
       "0.7306164696812018"
      ]
     },
     "execution_count": 10,
     "metadata": {},
     "output_type": "execute_result"
    }
   ],
   "source": [
    "def CDF(x):\n",
    "    ans = 1/(1+np.e**(-1*x))\n",
    "    return ans\n",
    "CDF(0.9977525293526299)\n",
    "\n"
   ]
  },
  {
   "cell_type": "markdown",
   "metadata": {},
   "source": [
    "QUESTION 10"
   ]
  },
  {
   "cell_type": "code",
   "execution_count": 11,
   "metadata": {},
   "outputs": [
    {
     "data": {
      "text/plain": [
       "0.1562934518505317"
      ]
     },
     "execution_count": 11,
     "metadata": {},
     "output_type": "execute_result"
    }
   ],
   "source": [
    "def PMF(k,avg):\n",
    "    ans = (avg**k) /((np.e **avg) *math.factorial(k))\n",
    "    return ans\n",
    "PMF(5,4)"
   ]
  },
  {
   "cell_type": "markdown",
   "metadata": {},
   "source": [
    "QUESTION 11"
   ]
  },
  {
   "cell_type": "code",
   "execution_count": 24,
   "metadata": {},
   "outputs": [],
   "source": [
    "before_program = np.array([75, 80, 85, 70, 90, 78, 92, 88, 82, 87])\n",
    "after_program = np.array([80, 85, 90, 80, 92, 80, 95, 90, 85, 88])\n"
   ]
  },
  {
   "cell_type": "code",
   "execution_count": 32,
   "metadata": {},
   "outputs": [
    {
     "data": {
      "text/plain": [
       "(82.7, 6.649060083951716)"
      ]
     },
     "execution_count": 32,
     "metadata": {},
     "output_type": "execute_result"
    }
   ],
   "source": [
    "np.mean(before_program) ,np.std(before_program)"
   ]
  },
  {
   "cell_type": "code",
   "execution_count": 26,
   "metadata": {},
   "outputs": [
    {
     "data": {
      "text/plain": [
       "86.5"
      ]
     },
     "execution_count": 26,
     "metadata": {},
     "output_type": "execute_result"
    }
   ],
   "source": [
    "np.mean(after_program)"
   ]
  },
  {
   "cell_type": "code",
   "execution_count": 43,
   "metadata": {},
   "outputs": [
    {
     "name": "stdout",
     "output_type": "stream",
     "text": [
      "accept the nullhypothesis\n"
     ]
    }
   ],
   "source": [
    "#h0 = >82.7\n",
    "import scipy.stats as stats\n",
    "avg= 86.5\n",
    "mean = 82.7\n",
    "stan_dev = np.std(before_program)\n",
    "n = 10\n",
    "alpha  = 0.05\n",
    "z_stats = (avg  - mean)/(stan_dev)\n",
    "z_stats\n",
    "p_value =1- stats.norm.cdf(z_stats)\n",
    "if(p_value<0.05):print(\"reject null hypothesis\")\n",
    "else:print(\"accept the nullhypothesis\")"
   ]
  },
  {
   "cell_type": "code",
   "execution_count": null,
   "metadata": {},
   "outputs": [],
   "source": []
  }
 ],
 "metadata": {
  "kernelspec": {
   "display_name": "base",
   "language": "python",
   "name": "python3"
  },
  "language_info": {
   "codemirror_mode": {
    "name": "ipython",
    "version": 3
   },
   "file_extension": ".py",
   "mimetype": "text/x-python",
   "name": "python",
   "nbconvert_exporter": "python",
   "pygments_lexer": "ipython3",
   "version": "3.11.7"
  }
 },
 "nbformat": 4,
 "nbformat_minor": 2
}
