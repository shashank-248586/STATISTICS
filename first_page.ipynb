{
 "cells": [
  {
   "cell_type": "code",
   "execution_count": 1,
   "metadata": {},
   "outputs": [],
   "source": [
    "import numpy as np\n",
    "import pandas as pd\n",
    "import statistics\n",
    "import math\n"
   ]
  },
  {
   "cell_type": "markdown",
   "metadata": {},
   "source": [
    "QUESTION -1"
   ]
  },
  {
   "cell_type": "code",
   "execution_count": 2,
   "metadata": {},
   "outputs": [
    {
     "data": {
      "text/plain": [
       "(100,)"
      ]
     },
     "execution_count": 2,
     "metadata": {},
     "output_type": "execute_result"
    }
   ],
   "source": [
    "int_list = np.random.randint(90,130,100)\n",
    "int_list.shape"
   ]
  },
  {
   "cell_type": "code",
   "execution_count": 3,
   "metadata": {},
   "outputs": [
    {
     "name": "stdout",
     "output_type": "stream",
     "text": [
      "108.55\n",
      "108.55\n"
     ]
    }
   ],
   "source": [
    "#(i) funtion to calculate mean of a given list\n",
    "def mean_of_list(l):\n",
    "    return np.mean(l)\n",
    "print(mean_of_list(int_list))\n",
    "def median_of_list(l):\n",
    "    return np.median(l)\n",
    "print(mean_of_list(int_list))"
   ]
  },
  {
   "cell_type": "code",
   "execution_count": 4,
   "metadata": {},
   "outputs": [
    {
     "name": "stdout",
     "output_type": "stream",
     "text": [
      "107\n"
     ]
    }
   ],
   "source": [
    "#(ii)\n",
    "def mode_of_list(l):\n",
    "    return statistics.mode(l)\n",
    "print(mode_of_list(int_list))"
   ]
  },
  {
   "cell_type": "code",
   "execution_count": 5,
   "metadata": {},
   "outputs": [
    {
     "data": {
      "text/plain": [
       "4.235294117647059"
      ]
     },
     "execution_count": 5,
     "metadata": {},
     "output_type": "execute_result"
    }
   ],
   "source": [
    "#(iii)\n",
    "def weighted_mean(values,weight):\n",
    "    total_weights = 0\n",
    "    n = values.size\n",
    "    for i in range(n):\n",
    "        total_weights += values[i]*weight[i]\n",
    "    total_sum = np.sum(weight)\n",
    "    return total_weights/total_sum\n",
    "values  = np.array([1,5,3,6,7])\n",
    "weight  = np.array([2,4,6,3,2])\n",
    "weighted_mean(values,weight)\n"
   ]
  },
  {
   "cell_type": "code",
   "execution_count": 6,
   "metadata": {},
   "outputs": [
    {
     "data": {
      "text/plain": [
       "108.0318185108782"
      ]
     },
     "execution_count": 6,
     "metadata": {},
     "output_type": "execute_result"
    }
   ],
   "source": [
    "#(iv)\n",
    "def geometric_mean_of_list(l):\n",
    "    s= l[0]\n",
    "    for j in range(1,l.size):\n",
    "        s=math.pow(math.pow(s,j)*l[j],1/(j+1))\n",
    "    return s\n",
    "geometric_mean_of_list(int_list)\n",
    "        "
   ]
  },
  {
   "cell_type": "code",
   "execution_count": 7,
   "metadata": {},
   "outputs": [
    {
     "data": {
      "text/plain": [
       "107.51093291499495"
      ]
     },
     "execution_count": 7,
     "metadata": {},
     "output_type": "execute_result"
    }
   ],
   "source": [
    "#(v)\n",
    "def harmonic_mean_of_list(l):\n",
    "    s= 0\n",
    "    for i in l:\n",
    "        s  += 1/i\n",
    "    return float(int(l.shape[0])/s)\n",
    "harmonic_mean_of_list(int_list)"
   ]
  },
  {
   "cell_type": "code",
   "execution_count": 8,
   "metadata": {},
   "outputs": [
    {
     "data": {
      "text/plain": [
       "109.5"
      ]
     },
     "execution_count": 8,
     "metadata": {},
     "output_type": "execute_result"
    }
   ],
   "source": [
    "#(vi)\n",
    "int_list.max()\n",
    "def midrange(l):\n",
    "    return (l.min() + l.max())/2\n",
    "midrange(int_list)"
   ]
  },
  {
   "cell_type": "code",
   "execution_count": 9,
   "metadata": {},
   "outputs": [
    {
     "data": {
      "text/plain": [
       "5.285714285714286"
      ]
     },
     "execution_count": 9,
     "metadata": {},
     "output_type": "execute_result"
    }
   ],
   "source": [
    "#(vii)\n",
    "a=np.array([3,6,2,1,8,3,7,8,4,6])\n",
    "def trimmed_mean(l,outliers):\n",
    "    l = np.sort(l)\n",
    "    out_num = int (outliers*np.size(l)/100)\n",
    "    a = l[out_num+1 : -1*out_num]\n",
    "    return np.mean(a)\n",
    "trimmed_mean(a,10)\n"
   ]
  },
  {
   "cell_type": "markdown",
   "metadata": {},
   "source": [
    "QUESTION-2  \n"
   ]
  },
  {
   "cell_type": "code",
   "execution_count": 10,
   "metadata": {},
   "outputs": [],
   "source": [
    "import matplotlib.pyplot as plt\n",
    "import seaborn as sns"
   ]
  },
  {
   "cell_type": "code",
   "execution_count": 11,
   "metadata": {},
   "outputs": [],
   "source": [
    "int_list2 =np.random.randint(200,300,500)"
   ]
  },
  {
   "cell_type": "code",
   "execution_count": 12,
   "metadata": {},
   "outputs": [
    {
     "name": "stderr",
     "output_type": "stream",
     "text": [
      "c:\\ProgramData\\anaconda3\\Lib\\site-packages\\seaborn\\_oldcore.py:1119: FutureWarning: use_inf_as_na option is deprecated and will be removed in a future version. Convert inf values to NaN before operating instead.\n",
      "  with pd.option_context('mode.use_inf_as_na', True):\n"
     ]
    },
    {
     "data": {
      "text/plain": [
       "<Axes: ylabel='Count'>"
      ]
     },
     "execution_count": 12,
     "metadata": {},
     "output_type": "execute_result"
    },
    {
     "data": {
      "image/png": "[encoded data removed]",
      "text/plain": [
       "<Figure size 640x480 with 1 Axes>"
      ]
     },
     "metadata": {},
     "output_type": "display_data"
    }
   ],
   "source": [
    "#(i)\n",
    "sns.histplot(int_list2)"
   ]
  },
  {
   "cell_type": "code",
   "execution_count": 13,
   "metadata": {},
   "outputs": [
    {
     "name": "stderr",
     "output_type": "stream",
     "text": [
      "C:\\Users\\suman\\AppData\\Local\\Temp\\ipykernel_11860\\3738816947.py:1: UserWarning: \n",
      "\n",
      "`distplot` is a deprecated function and will be removed in seaborn v0.14.0.\n",
      "\n",
      "Please adapt your code to use either `displot` (a figure-level function with\n",
      "similar flexibility) or `histplot` (an axes-level function for histograms).\n",
      "\n",
      "For a guide to updating your code to use the new functions, please see\n",
      "https://gist.github.com/mwaskom/de44147ed2974457ad6372750bbe5751\n",
      "\n",
      "  sns.distplot(int_list2 ,kde=True)\n",
      "c:\\ProgramData\\anaconda3\\Lib\\site-packages\\seaborn\\_oldcore.py:1119: FutureWarning: use_inf_as_na option is deprecated and will be removed in a future version. Convert inf values to NaN before operating instead.\n",
      "  with pd.option_context('mode.use_inf_as_na', True):\n"
     ]
    },
    {
     "data": {
      "text/plain": [
       "<Axes: ylabel='Density'>"
      ]
     },
     "execution_count": 13,
     "metadata": {},
     "output_type": "execute_result"
    },
    {
     "data": {
      "image/png": "[encoded data removed]",
      "text/plain": [
       "<Figure size 640x480 with 1 Axes>"
      ]
     },
     "metadata": {},
     "output_type": "display_data"
    }
   ],
   "source": [
    "sns.distplot(int_list2 ,kde=True)"
   ]
  },
  {
   "cell_type": "code",
   "execution_count": 14,
   "metadata": {},
   "outputs": [
    {
     "name": "stderr",
     "output_type": "stream",
     "text": [
      "c:\\ProgramData\\anaconda3\\Lib\\site-packages\\seaborn\\_oldcore.py:1119: FutureWarning: use_inf_as_na option is deprecated and will be removed in a future version. Convert inf values to NaN before operating instead.\n",
      "  with pd.option_context('mode.use_inf_as_na', True):\n"
     ]
    },
    {
     "data": {
      "text/plain": [
       "<Axes: ylabel='Density'>"
      ]
     },
     "execution_count": 14,
     "metadata": {},
     "output_type": "execute_result"
    },
    {
     "data": {
      "image/png": "[encoded data removed]",
      "text/plain": [
       "<Figure size 640x480 with 1 Axes>"
      ]
     },
     "metadata": {},
     "output_type": "display_data"
    }
   ],
   "source": [
    "sns.kdeplot(int_list2)"
   ]
  },
  {
   "cell_type": "code",
   "execution_count": 16,
   "metadata": {},
   "outputs": [
    {
     "data": {
      "text/plain": [
       "99"
      ]
     },
     "execution_count": 16,
     "metadata": {},
     "output_type": "execute_result"
    }
   ],
   "source": [
    "#(ii)\n",
    "def range_of_list(l):\n",
    "    return np.max(l) - np.min(l)\n",
    "range_of_list(int_list2)"
   ]
  },
  {
   "cell_type": "code",
   "execution_count": 25,
   "metadata": {},
   "outputs": [
    {
     "name": "stdout",
     "output_type": "stream",
     "text": [
      "858.7610999999999\n",
      "29.304625914691353\n"
     ]
    }
   ],
   "source": [
    "#(iii)\n",
    "def variance_of_list(l):\n",
    "    return np.var(l)\n",
    "print(variance_of_list(int_list2))\n",
    "def standard_deviation(l):\n",
    "     return np.std(l)\n",
    "print(standard_deviation(int_list2))"
   ]
  },
  {
   "cell_type": "code",
   "execution_count": 50,
   "metadata": {},
   "outputs": [
    {
     "data": {
      "text/plain": [
       "51.0"
      ]
     },
     "execution_count": 50,
     "metadata": {},
     "output_type": "execute_result"
    }
   ],
   "source": [
    "#(iv)\n",
    "def IQR(l):\n",
    "    a = list(np.sort(l))\n",
    "    iq2 = np.median(a)\n",
    "    n=np.size(a)\n",
    "    lower = np.array(a[0:int(n/2)]) \n",
    "    upper = np.array(a[int(n/2):])\n",
    "    iq1 = np.median(lower)\n",
    "    iq3 = np.median(upper)\n",
    "    return iq3 - iq1\n",
    "IQR(int_list2)\n",
    "\n"
   ]
  },
  {
   "cell_type": "code",
   "execution_count": 54,
   "metadata": {},
   "outputs": [
    {
     "data": {
      "text/plain": [
       "11.723257156735349"
      ]
     },
     "execution_count": 54,
     "metadata": {},
     "output_type": "execute_result"
    }
   ],
   "source": [
    "#(v)\n",
    "def coefficent_of_variation(l):\n",
    "    return (np.std(l)/np.mean(l))*100\n",
    "coefficent_of_variation(int_list2)"
   ]
  },
  {
   "cell_type": "code",
   "execution_count": 60,
   "metadata": {},
   "outputs": [
    {
     "data": {
      "text/plain": [
       "25.398959999999995"
      ]
     },
     "execution_count": 60,
     "metadata": {},
     "output_type": "execute_result"
    }
   ],
   "source": [
    "#(vi)\n",
    "def MAD(l):\n",
    "    s = 0\n",
    "    m = np.mean(l)\n",
    "    for i in(l):\n",
    "        s+=abs(m -i)\n",
    "    return s/np.size(l)\n",
    "MAD(int_list2)"
   ]
  },
  {
   "cell_type": "code",
   "execution_count": 68,
   "metadata": {},
   "outputs": [
    {
     "data": {
      "text/plain": [
       "25.5"
      ]
     },
     "execution_count": 68,
     "metadata": {},
     "output_type": "execute_result"
    }
   ],
   "source": [
    "#(vii)\n",
    "def quartile_deviation(l):\n",
    "    q1,q3 = np.percentile(l,[25,75])\n",
    "    return (q3 - q1)/2\n",
    "quartile_deviation(int_list2)"
   ]
  },
  {
   "cell_type": "code",
   "execution_count": 70,
   "metadata": {},
   "outputs": [
    {
     "data": {
      "text/plain": [
       "0.19839679358717435"
      ]
     },
     "execution_count": 70,
     "metadata": {},
     "output_type": "execute_result"
    }
   ],
   "source": [
    "#(viii)\n",
    "def range_based_coefficent(l):\n",
    "    max = np.max(l)\n",
    "    min  = np.min(l)\n",
    "    return (max - min)/(max + min)\n",
    "range_based_coefficent(int_list2)"
   ]
  },
  {
   "cell_type": "markdown",
   "metadata": {},
   "source": [
    "QUESTION - 3"
   ]
  },
  {
   "cell_type": "code",
   "execution_count": 75,
   "metadata": {},
   "outputs": [
    {
     "name": "stdout",
     "output_type": "stream",
     "text": [
      "0.5\n",
      "0.25\n"
     ]
    }
   ],
   "source": [
    "class Coin:\n",
    "    def __init__(self):\n",
    "        self.random_variable= [0,1]\n",
    "    def expected_value():\n",
    "        print(0.5*0 +0.5*1)\n",
    "        return\n",
    "    def variance():\n",
    "        except_value_of_xi2=0.5*(0**2) + 0.5 *(1**2)\n",
    "        except_value_of_xi_whole2 = (0.5*0 + 0.5*1)**2\n",
    "        print(except_value_of_xi2-except_value_of_xi_whole2)\n",
    "        return\n",
    "expt_1 = Coin\n",
    "expt_1.expected_value()\n",
    "expt_1.variance()"
   ]
  },
  {
   "cell_type": "markdown",
   "metadata": {},
   "source": [
    "QUESTION - 4"
   ]
  },
  {
   "cell_type": "code",
   "execution_count": 79,
   "metadata": {},
   "outputs": [
    {
     "name": "stdout",
     "output_type": "stream",
     "text": [
      "3.5\n",
      "2.916666666666666\n"
     ]
    }
   ],
   "source": [
    "random_variable = [1,2,3,4,5,6]\n",
    "probability = 1/6\n",
    "def excepted_value(l,p):\n",
    "    ev = 0\n",
    "    for i in l:\n",
    "        ev+= p*i\n",
    "    return ev\n",
    "def variance(l,p):\n",
    "    a  = [i**2 for i in l]\n",
    "    return excepted_value(a,probability) - (excepted_value(l,probability))**2\n",
    "print(excepted_value(random_variable,probability))\n",
    "print(variance(random_variable,probability))\n"
   ]
  },
  {
   "cell_type": "markdown",
   "metadata": {},
   "source": [
    "QUESTION - 5"
   ]
  },
  {
   "cell_type": "code",
   "execution_count": 86,
   "metadata": {},
   "outputs": [
    {
     "name": "stdout",
     "output_type": "stream",
     "text": [
      "the mean is 5.0011\n",
      "the variance is 2.57649879\n"
     ]
    }
   ],
   "source": [
    "prd =np.random.binomial(10,0.5,10000)\n",
    "print(\"the mean is\",np.mean(prd))\n",
    "print(\"the variance is\",np.var(prd))"
   ]
  },
  {
   "cell_type": "code",
   "execution_count": 93,
   "metadata": {},
   "outputs": [
    {
     "name": "stdout",
     "output_type": "stream",
     "text": [
      "the mean is 9.95\n",
      "the variance is 9.9515\n"
     ]
    }
   ],
   "source": [
    "prd = np.random.poisson(10,1000)\n",
    "print(\"the mean is\",np.mean(prd))\n",
    "print(\"the variance is\",np.var(prd))"
   ]
  },
  {
   "cell_type": "markdown",
   "metadata": {},
   "source": [
    "QUESTION -6"
   ]
  },
  {
   "cell_type": "code",
   "execution_count": 102,
   "metadata": {},
   "outputs": [
    {
     "name": "stdout",
     "output_type": "stream",
     "text": [
      "mean is  9.969734696374264\n",
      "variance is  3.986797474612381\n",
      "standard deviation is  1.996696640607276\n"
     ]
    }
   ],
   "source": [
    "a = np.random.normal(loc=10,scale=2,size=1000)\n",
    "print(\"mean is \",np.mean(a))\n",
    "print(\"variance is \",np.var(a))\n",
    "print(\"standard deviation is \",np.std(a))"
   ]
  },
  {
   "cell_type": "code",
   "execution_count": null,
   "metadata": {},
   "outputs": [],
   "source": []
  }
 ],
 "metadata": {
  "kernelspec": {
   "display_name": "base",
   "language": "python",
   "name": "python3"
  },
  "language_info": {
   "codemirror_mode": {
    "name": "ipython",
    "version": 3
   },
   "file_extension": ".py",
   "mimetype": "text/x-python",
   "name": "python",
   "nbconvert_exporter": "python",
   "pygments_lexer": "ipython3",
   "version": "3.11.7"
  }
 },
 "nbformat": 4,
 "nbformat_minor": 2
}
